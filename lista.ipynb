{
 "cells": [
  {
   "cell_type": "markdown",
   "id": "7876ddcf",
   "metadata": {},
   "source": [
    "# Lista"
   ]
  },
  {
   "cell_type": "code",
   "execution_count": 12,
   "id": "022c7a20",
   "metadata": {},
   "outputs": [],
   "source": [
    "# Criação de listas\n",
    "\n",
    "lista1 = [1, 'a', 2,3]\n",
    "\n",
    "b = [1, 2, 3, 4, 5, 6]\n"
   ]
  },
  {
   "cell_type": "code",
   "execution_count": 14,
   "id": "108d2014",
   "metadata": {},
   "outputs": [
    {
     "name": "stdout",
     "output_type": "stream",
     "text": [
      "[1, 'a', 2, 3]\n",
      "[1, 2, 3, 4, 5, 6]\n"
     ]
    }
   ],
   "source": [
    "print(lista1)\n",
    "print(b)"
   ]
  },
  {
   "cell_type": "code",
   "execution_count": 16,
   "id": "bdacd7d0",
   "metadata": {},
   "outputs": [
    {
     "name": "stdout",
     "output_type": "stream",
     "text": [
      "1\n",
      "3\n"
     ]
    }
   ],
   "source": [
    "# Acessando os elementos da lista\n",
    "\n",
    "print(lista1 [0])\n",
    "print(b[2])"
   ]
  },
  {
   "cell_type": "code",
   "execution_count": 19,
   "id": "dd54e360",
   "metadata": {},
   "outputs": [],
   "source": [
    "# Modificando um elemento da lista\n",
    "\n",
    "b[2] = 15"
   ]
  },
  {
   "cell_type": "code",
   "execution_count": 22,
   "id": "b9960ca2",
   "metadata": {},
   "outputs": [
    {
     "name": "stdout",
     "output_type": "stream",
     "text": [
      "[1, 2, 15, 4, 5, 6]\n"
     ]
    }
   ],
   "source": [
    "# Verificando a nova lista b\n",
    "print(b)"
   ]
  },
  {
   "cell_type": "markdown",
   "id": "bf36702f",
   "metadata": {},
   "source": [
    "## Ordenação de listas"
   ]
  },
  {
   "cell_type": "code",
   "execution_count": 26,
   "id": "bbba9a66",
   "metadata": {},
   "outputs": [
    {
     "name": "stdout",
     "output_type": "stream",
     "text": [
      "[1, 2, 4, 5, 6, 15]\n"
     ]
    }
   ],
   "source": [
    "# Ordenando a lista b\n",
    "\n",
    "\n",
    "c = sorted(b)\n",
    "print(c)"
   ]
  },
  {
   "cell_type": "code",
   "execution_count": 27,
   "id": "af5e6a45",
   "metadata": {},
   "outputs": [],
   "source": [
    "# Usando o método sort\n",
    "d = b.sort()"
   ]
  },
  {
   "cell_type": "code",
   "execution_count": 28,
   "id": "75785f41",
   "metadata": {},
   "outputs": [
    {
     "name": "stdout",
     "output_type": "stream",
     "text": [
      "None\n"
     ]
    }
   ],
   "source": [
    "print(d)"
   ]
  },
  {
   "cell_type": "code",
   "execution_count": 29,
   "id": "a867b832",
   "metadata": {},
   "outputs": [
    {
     "name": "stdout",
     "output_type": "stream",
     "text": [
      "[1, 2, 4, 5, 6, 15]\n"
     ]
    }
   ],
   "source": [
    "print(b)"
   ]
  },
  {
   "cell_type": "code",
   "execution_count": 38,
   "id": "e8c96fd4",
   "metadata": {},
   "outputs": [],
   "source": [
    "e = [2, 13, 6, 1, 9]"
   ]
  },
  {
   "cell_type": "code",
   "execution_count": 39,
   "id": "04a664e0",
   "metadata": {},
   "outputs": [
    {
     "name": "stdout",
     "output_type": "stream",
     "text": [
      "None\n",
      "[1, 2, 6, 9, 13]\n"
     ]
    }
   ],
   "source": [
    "print(e.sort())\n",
    "print(e)"
   ]
  },
  {
   "cell_type": "code",
   "execution_count": null,
   "id": "91f82597",
   "metadata": {},
   "outputs": [],
   "source": []
  }
 ],
 "metadata": {
  "kernelspec": {
   "display_name": "Python 3 (ipykernel)",
   "language": "python",
   "name": "python3"
  },
  "language_info": {
   "codemirror_mode": {
    "name": "ipython",
    "version": 3
   },
   "file_extension": ".py",
   "mimetype": "text/x-python",
   "name": "python",
   "nbconvert_exporter": "python",
   "pygments_lexer": "ipython3",
   "version": "3.10.9"
  }
 },
 "nbformat": 4,
 "nbformat_minor": 5
}
